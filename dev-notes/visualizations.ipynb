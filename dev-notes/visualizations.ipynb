{
 "cells": [
  {
   "cell_type": "code",
   "execution_count": 1,
   "id": "f5b731bd",
   "metadata": {},
   "outputs": [
    {
     "name": "stderr",
     "output_type": "stream",
     "text": [
      "Intel(R) Extension for Scikit-learn* enabled (https://github.com/intel/scikit-learn-intelex)\n",
      "/Users/aravind/.local/lib/python3.9/site-packages/pm4py/visualization/footprints/__init__.py:21: UserWarning: The footprints visualizer will be removed in a future release.\n",
      "  warnings.warn(\"The footprints visualizer will be removed in a future release.\")\n"
     ]
    }
   ],
   "source": [
    "from am4pa.linnea import LinneaConfig, MeasurementsLinnea\n",
    "import pm4py\n",
    "from pm4py.objects.conversion.log import converter as log_converter\n",
    "from pm4py.algo.discovery.inductive import algorithm as inductive_miner\n",
    "from pm4py.visualization.petri_net import visualizer as pn_visualizer\n",
    "from pm4py.algo.discovery.footprints import algorithm as footprints_discovery\n",
    "from pm4py.visualization.footprints import visualizer as fp_visualizer"
   ]
  },
  {
   "cell_type": "code",
   "execution_count": 5,
   "id": "53557fbd",
   "metadata": {},
   "outputs": [],
   "source": [
    "linnea_config = LinneaConfig(\"MatrixChain4\",4)\n",
    "linnea_config.set_local_directory(\"../linnea/matrix-chain-4/\")\n",
    "linnea_config.setup_backend_details(server=\"login18-1.hpc.itc.rwth-aachen.de\",\n",
    "                                   uname = \"as641651\",\n",
    "                                   init_script=\"~/.analyzer\",\n",
    "                                   backend_dir=\"~/PhD/va4algs-exps/matrix-chain-4/\")"
   ]
  },
  {
   "cell_type": "code",
   "execution_count": 6,
   "id": "a29f48da",
   "metadata": {},
   "outputs": [],
   "source": [
    "linnea_config.connect_backend()"
   ]
  },
  {
   "cell_type": "code",
   "execution_count": 7,
   "id": "38cff83c",
   "metadata": {},
   "outputs": [
    {
     "data": {
      "text/plain": [
       "True"
      ]
     },
     "execution_count": 7,
     "metadata": {},
     "output_type": "execute_result"
    }
   ],
   "source": [
    "linnea_config.check_backend_folder_sync()"
   ]
  },
  {
   "cell_type": "code",
   "execution_count": 8,
   "id": "f2bd4989",
   "metadata": {},
   "outputs": [],
   "source": [
    "op_sizes = [\"1000\",\"1000\",\"10\",\"1000\",\"1000\"]\n",
    "ms = MeasurementsLinnea(linnea_config,op_sizes)"
   ]
  },
  {
   "cell_type": "code",
   "execution_count": 9,
   "id": "4644b7f4",
   "metadata": {},
   "outputs": [],
   "source": [
    "ms.generate_variants(bGenerate=False)"
   ]
  },
  {
   "cell_type": "code",
   "execution_count": 10,
   "id": "92fa01f7",
   "metadata": {},
   "outputs": [],
   "source": [
    "dc = ms.data_collector"
   ]
  },
  {
   "cell_type": "code",
   "execution_count": 12,
   "id": "f1aa4b3a",
   "metadata": {},
   "outputs": [
    {
     "data": {
      "text/html": [
       "<div>\n",
       "<style scoped>\n",
       "    .dataframe tbody tr th:only-of-type {\n",
       "        vertical-align: middle;\n",
       "    }\n",
       "\n",
       "    .dataframe tbody tr th {\n",
       "        vertical-align: top;\n",
       "    }\n",
       "\n",
       "    .dataframe thead th {\n",
       "        text-align: right;\n",
       "    }\n",
       "</style>\n",
       "<table border=\"1\" class=\"dataframe\">\n",
       "  <thead>\n",
       "    <tr style=\"text-align: right;\">\n",
       "      <th></th>\n",
       "      <th>case:concept:name</th>\n",
       "      <th>concept:name</th>\n",
       "      <th>concept:flops</th>\n",
       "      <th>concept:kernel</th>\n",
       "      <th>concept:operation</th>\n",
       "      <th>timestamp:start</th>\n",
       "    </tr>\n",
       "  </thead>\n",
       "  <tbody>\n",
       "    <tr>\n",
       "      <th>0</th>\n",
       "      <td>algorithm0</td>\n",
       "      <td>gemm_2e+07</td>\n",
       "      <td>2.000000e+07</td>\n",
       "      <td>gemm!('N', 'N', 1.0, ml2, ml3, 0.0, ml4)</td>\n",
       "      <td>tmp3 = (C D)</td>\n",
       "      <td>2022-12-20 15:53:12.869753</td>\n",
       "    </tr>\n",
       "    <tr>\n",
       "      <th>1</th>\n",
       "      <td>algorithm0</td>\n",
       "      <td>gemm_2e+07</td>\n",
       "      <td>2.000000e+07</td>\n",
       "      <td>gemm!('N', 'N', 1.0, ml0, ml1, 0.0, ml5)</td>\n",
       "      <td>tmp1 = (A B)</td>\n",
       "      <td>2022-12-20 15:53:13.869753</td>\n",
       "    </tr>\n",
       "    <tr>\n",
       "      <th>2</th>\n",
       "      <td>algorithm0</td>\n",
       "      <td>gemm_2e+07</td>\n",
       "      <td>2.000000e+07</td>\n",
       "      <td>gemm!('N', 'N', 1.0, ml5, ml4, 0.0, ml6)</td>\n",
       "      <td>tmp6 = (tmp1 tmp3)</td>\n",
       "      <td>2022-12-20 15:53:14.869753</td>\n",
       "    </tr>\n",
       "    <tr>\n",
       "      <th>3</th>\n",
       "      <td>algorithm2</td>\n",
       "      <td>gemm_2e+07</td>\n",
       "      <td>2.000000e+07</td>\n",
       "      <td>gemm!('N', 'N', 1.0, ml0, ml1, 0.0, ml4)</td>\n",
       "      <td>tmp1 = (A B)</td>\n",
       "      <td>2022-12-20 15:56:32.869753</td>\n",
       "    </tr>\n",
       "    <tr>\n",
       "      <th>4</th>\n",
       "      <td>algorithm2</td>\n",
       "      <td>gemm_2e+07</td>\n",
       "      <td>2.000000e+07</td>\n",
       "      <td>gemm!('N', 'N', 1.0, ml4, ml2, 0.0, ml5)</td>\n",
       "      <td>tmp4 = (tmp1 C)</td>\n",
       "      <td>2022-12-20 15:56:33.869753</td>\n",
       "    </tr>\n",
       "    <tr>\n",
       "      <th>5</th>\n",
       "      <td>algorithm2</td>\n",
       "      <td>gemm_2e+09</td>\n",
       "      <td>2.000000e+09</td>\n",
       "      <td>gemm!('N', 'N', 1.0, ml5, ml3, 0.0, ml6)</td>\n",
       "      <td>tmp6 = (tmp4 D)</td>\n",
       "      <td>2022-12-20 15:56:34.869753</td>\n",
       "    </tr>\n",
       "    <tr>\n",
       "      <th>6</th>\n",
       "      <td>algorithm4</td>\n",
       "      <td>gemm_2e+07</td>\n",
       "      <td>2.000000e+07</td>\n",
       "      <td>gemm!('N', 'N', 1.0, ml1, ml2, 0.0, ml4)</td>\n",
       "      <td>tmp2 = (B C)</td>\n",
       "      <td>2022-12-20 15:59:52.869753</td>\n",
       "    </tr>\n",
       "    <tr>\n",
       "      <th>7</th>\n",
       "      <td>algorithm4</td>\n",
       "      <td>gemm_2e+09</td>\n",
       "      <td>2.000000e+09</td>\n",
       "      <td>gemm!('N', 'N', 1.0, ml4, ml3, 0.0, ml5)</td>\n",
       "      <td>tmp5 = (tmp2 D)</td>\n",
       "      <td>2022-12-20 15:59:53.869753</td>\n",
       "    </tr>\n",
       "    <tr>\n",
       "      <th>8</th>\n",
       "      <td>algorithm4</td>\n",
       "      <td>gemm_2e+09</td>\n",
       "      <td>2.000000e+09</td>\n",
       "      <td>gemm!('N', 'N', 1.0, ml0, ml5, 0.0, ml6)</td>\n",
       "      <td>tmp6 = (A tmp5)</td>\n",
       "      <td>2022-12-20 15:59:54.869753</td>\n",
       "    </tr>\n",
       "    <tr>\n",
       "      <th>9</th>\n",
       "      <td>algorithm1</td>\n",
       "      <td>gemm_2e+07</td>\n",
       "      <td>2.000000e+07</td>\n",
       "      <td>gemm!('N', 'N', 1.0, ml0, ml1, 0.0, ml4)</td>\n",
       "      <td>tmp1 = (A B)</td>\n",
       "      <td>2022-12-20 15:54:52.869753</td>\n",
       "    </tr>\n",
       "    <tr>\n",
       "      <th>10</th>\n",
       "      <td>algorithm1</td>\n",
       "      <td>gemm_2e+07</td>\n",
       "      <td>2.000000e+07</td>\n",
       "      <td>gemm!('N', 'N', 1.0, ml2, ml3, 0.0, ml5)</td>\n",
       "      <td>tmp3 = (C D)</td>\n",
       "      <td>2022-12-20 15:54:53.869753</td>\n",
       "    </tr>\n",
       "    <tr>\n",
       "      <th>11</th>\n",
       "      <td>algorithm1</td>\n",
       "      <td>gemm_2e+07</td>\n",
       "      <td>2.000000e+07</td>\n",
       "      <td>gemm!('N', 'N', 1.0, ml4, ml5, 0.0, ml6)</td>\n",
       "      <td>tmp6 = (tmp1 tmp3)</td>\n",
       "      <td>2022-12-20 15:54:54.869753</td>\n",
       "    </tr>\n",
       "    <tr>\n",
       "      <th>12</th>\n",
       "      <td>algorithm5</td>\n",
       "      <td>gemm_2e+07</td>\n",
       "      <td>2.000000e+07</td>\n",
       "      <td>gemm!('N', 'N', 1.0, ml1, ml2, 0.0, ml4)</td>\n",
       "      <td>tmp2 = (B C)</td>\n",
       "      <td>2022-12-20 16:01:32.869753</td>\n",
       "    </tr>\n",
       "    <tr>\n",
       "      <th>13</th>\n",
       "      <td>algorithm5</td>\n",
       "      <td>gemm_2e+09</td>\n",
       "      <td>2.000000e+09</td>\n",
       "      <td>gemm!('N', 'N', 1.0, ml0, ml4, 0.0, ml5)</td>\n",
       "      <td>tmp4 = (A tmp2)</td>\n",
       "      <td>2022-12-20 16:01:33.869753</td>\n",
       "    </tr>\n",
       "    <tr>\n",
       "      <th>14</th>\n",
       "      <td>algorithm5</td>\n",
       "      <td>gemm_2e+09</td>\n",
       "      <td>2.000000e+09</td>\n",
       "      <td>gemm!('N', 'N', 1.0, ml5, ml3, 0.0, ml6)</td>\n",
       "      <td>tmp6 = (tmp4 D)</td>\n",
       "      <td>2022-12-20 16:01:34.869753</td>\n",
       "    </tr>\n",
       "    <tr>\n",
       "      <th>15</th>\n",
       "      <td>algorithm3</td>\n",
       "      <td>gemm_2e+07</td>\n",
       "      <td>2.000000e+07</td>\n",
       "      <td>gemm!('N', 'N', 1.0, ml2, ml3, 0.0, ml4)</td>\n",
       "      <td>tmp3 = (C D)</td>\n",
       "      <td>2022-12-20 15:58:12.869753</td>\n",
       "    </tr>\n",
       "    <tr>\n",
       "      <th>16</th>\n",
       "      <td>algorithm3</td>\n",
       "      <td>gemm_2e+07</td>\n",
       "      <td>2.000000e+07</td>\n",
       "      <td>gemm!('N', 'N', 1.0, ml1, ml4, 0.0, ml5)</td>\n",
       "      <td>tmp5 = (B tmp3)</td>\n",
       "      <td>2022-12-20 15:58:13.869753</td>\n",
       "    </tr>\n",
       "    <tr>\n",
       "      <th>17</th>\n",
       "      <td>algorithm3</td>\n",
       "      <td>gemm_2e+09</td>\n",
       "      <td>2.000000e+09</td>\n",
       "      <td>gemm!('N', 'N', 1.0, ml0, ml5, 0.0, ml6)</td>\n",
       "      <td>tmp6 = (A tmp5)</td>\n",
       "      <td>2022-12-20 15:58:14.869753</td>\n",
       "    </tr>\n",
       "  </tbody>\n",
       "</table>\n",
       "</div>"
      ],
      "text/plain": [
       "   case:concept:name concept:name  concept:flops  \\\n",
       "0         algorithm0   gemm_2e+07   2.000000e+07   \n",
       "1         algorithm0   gemm_2e+07   2.000000e+07   \n",
       "2         algorithm0   gemm_2e+07   2.000000e+07   \n",
       "3         algorithm2   gemm_2e+07   2.000000e+07   \n",
       "4         algorithm2   gemm_2e+07   2.000000e+07   \n",
       "5         algorithm2   gemm_2e+09   2.000000e+09   \n",
       "6         algorithm4   gemm_2e+07   2.000000e+07   \n",
       "7         algorithm4   gemm_2e+09   2.000000e+09   \n",
       "8         algorithm4   gemm_2e+09   2.000000e+09   \n",
       "9         algorithm1   gemm_2e+07   2.000000e+07   \n",
       "10        algorithm1   gemm_2e+07   2.000000e+07   \n",
       "11        algorithm1   gemm_2e+07   2.000000e+07   \n",
       "12        algorithm5   gemm_2e+07   2.000000e+07   \n",
       "13        algorithm5   gemm_2e+09   2.000000e+09   \n",
       "14        algorithm5   gemm_2e+09   2.000000e+09   \n",
       "15        algorithm3   gemm_2e+07   2.000000e+07   \n",
       "16        algorithm3   gemm_2e+07   2.000000e+07   \n",
       "17        algorithm3   gemm_2e+09   2.000000e+09   \n",
       "\n",
       "                              concept:kernel   concept:operation  \\\n",
       "0   gemm!('N', 'N', 1.0, ml2, ml3, 0.0, ml4)        tmp3 = (C D)   \n",
       "1   gemm!('N', 'N', 1.0, ml0, ml1, 0.0, ml5)        tmp1 = (A B)   \n",
       "2   gemm!('N', 'N', 1.0, ml5, ml4, 0.0, ml6)  tmp6 = (tmp1 tmp3)   \n",
       "3   gemm!('N', 'N', 1.0, ml0, ml1, 0.0, ml4)        tmp1 = (A B)   \n",
       "4   gemm!('N', 'N', 1.0, ml4, ml2, 0.0, ml5)     tmp4 = (tmp1 C)   \n",
       "5   gemm!('N', 'N', 1.0, ml5, ml3, 0.0, ml6)     tmp6 = (tmp4 D)   \n",
       "6   gemm!('N', 'N', 1.0, ml1, ml2, 0.0, ml4)        tmp2 = (B C)   \n",
       "7   gemm!('N', 'N', 1.0, ml4, ml3, 0.0, ml5)     tmp5 = (tmp2 D)   \n",
       "8   gemm!('N', 'N', 1.0, ml0, ml5, 0.0, ml6)     tmp6 = (A tmp5)   \n",
       "9   gemm!('N', 'N', 1.0, ml0, ml1, 0.0, ml4)        tmp1 = (A B)   \n",
       "10  gemm!('N', 'N', 1.0, ml2, ml3, 0.0, ml5)        tmp3 = (C D)   \n",
       "11  gemm!('N', 'N', 1.0, ml4, ml5, 0.0, ml6)  tmp6 = (tmp1 tmp3)   \n",
       "12  gemm!('N', 'N', 1.0, ml1, ml2, 0.0, ml4)        tmp2 = (B C)   \n",
       "13  gemm!('N', 'N', 1.0, ml0, ml4, 0.0, ml5)     tmp4 = (A tmp2)   \n",
       "14  gemm!('N', 'N', 1.0, ml5, ml3, 0.0, ml6)     tmp6 = (tmp4 D)   \n",
       "15  gemm!('N', 'N', 1.0, ml2, ml3, 0.0, ml4)        tmp3 = (C D)   \n",
       "16  gemm!('N', 'N', 1.0, ml1, ml4, 0.0, ml5)     tmp5 = (B tmp3)   \n",
       "17  gemm!('N', 'N', 1.0, ml0, ml5, 0.0, ml6)     tmp6 = (A tmp5)   \n",
       "\n",
       "               timestamp:start  \n",
       "0   2022-12-20 15:53:12.869753  \n",
       "1   2022-12-20 15:53:13.869753  \n",
       "2   2022-12-20 15:53:14.869753  \n",
       "3   2022-12-20 15:56:32.869753  \n",
       "4   2022-12-20 15:56:33.869753  \n",
       "5   2022-12-20 15:56:34.869753  \n",
       "6   2022-12-20 15:59:52.869753  \n",
       "7   2022-12-20 15:59:53.869753  \n",
       "8   2022-12-20 15:59:54.869753  \n",
       "9   2022-12-20 15:54:52.869753  \n",
       "10  2022-12-20 15:54:53.869753  \n",
       "11  2022-12-20 15:54:54.869753  \n",
       "12  2022-12-20 16:01:32.869753  \n",
       "13  2022-12-20 16:01:33.869753  \n",
       "14  2022-12-20 16:01:34.869753  \n",
       "15  2022-12-20 15:58:12.869753  \n",
       "16  2022-12-20 15:58:13.869753  \n",
       "17  2022-12-20 15:58:14.869753  "
      ]
     },
     "execution_count": 12,
     "metadata": {},
     "output_type": "execute_result"
    }
   ],
   "source": [
    "log = dc.get_meta_table()\n",
    "log"
   ]
  },
  {
   "cell_type": "code",
   "execution_count": 19,
   "id": "18f25f09",
   "metadata": {},
   "outputs": [],
   "source": [
    "xes_log = log_converter.apply(log)"
   ]
  },
  {
   "cell_type": "code",
   "execution_count": 20,
   "id": "09b31374",
   "metadata": {},
   "outputs": [
    {
     "name": "stderr",
     "output_type": "stream",
     "text": [
      "/Users/aravind/.local/lib/python3.9/site-packages/pm4py/utils.py:486: UserWarning: the EventLog class has been deprecated and will be removed in a future release.\n",
      "  warnings.warn(\"the EventLog class has been deprecated and will be removed in a future release.\")\n"
     ]
    },
    {
     "data": {
      "text/plain": [
       "{'gemm_2e+07': 12, 'gemm_2e+09': 6}"
      ]
     },
     "execution_count": 20,
     "metadata": {},
     "output_type": "execute_result"
    }
   ],
   "source": [
    "activities = pm4py.get_event_attribute_values(xes_log, \"concept:name\")\n",
    "activities"
   ]
  },
  {
   "cell_type": "code",
   "execution_count": 26,
   "id": "fdd541e9",
   "metadata": {},
   "outputs": [],
   "source": [
    "net, im, fm = pm4py.discover_petri_net_inductive(xes_log)"
   ]
  },
  {
   "cell_type": "code",
   "execution_count": 27,
   "id": "132fe7d7",
   "metadata": {},
   "outputs": [
    {
     "data": {
      "image/svg+xml": [
       "<?xml version=\"1.0\" encoding=\"UTF-8\" standalone=\"no\"?>\n",
       "<!DOCTYPE svg PUBLIC \"-//W3C//DTD SVG 1.1//EN\"\n",
       " \"http://www.w3.org/Graphics/SVG/1.1/DTD/svg11.dtd\">\n",
       "<!-- Generated by graphviz version 2.40.1 (20161225.0304)\n",
       " -->\n",
       "<!-- Title: imdf_net_1671550674.8057501 Pages: 1 -->\n",
       "<svg width=\"1116pt\" height=\"282pt\"\n",
       " viewBox=\"0.00 0.00 1116.18 282.00\" xmlns=\"http://www.w3.org/2000/svg\" xmlns:xlink=\"http://www.w3.org/1999/xlink\">\n",
       "<g id=\"graph0\" class=\"graph\" transform=\"scale(1 1) rotate(0) translate(4 278)\">\n",
       "<title>imdf_net_1671550674.8057501</title>\n",
       "<polygon fill=\"#ffffff\" stroke=\"transparent\" points=\"-4,4 -4,-278 1112.1758,-278 1112.1758,4 -4,4\"/>\n",
       "<!-- 140264130351648 -->\n",
       "<g id=\"node1\" class=\"node\">\n",
       "<title>140264130351648</title>\n",
       "<polygon fill=\"none\" stroke=\"#000000\" points=\"82.1319,-127 -.044,-127 -.044,-91 82.1319,-91 82.1319,-127\"/>\n",
       "<text text-anchor=\"middle\" x=\"41.0439\" y=\"-105.4\" font-family=\"Times,serif\" font-size=\"12.00\" fill=\"#000000\">gemm_2e+07</text>\n",
       "</g>\n",
       "<!-- 140264130835504 -->\n",
       "<g id=\"node16\" class=\"node\">\n",
       "<title>140264130835504</title>\n",
       "<ellipse fill=\"none\" stroke=\"#000000\" cx=\"145.0879\" cy=\"-137\" rx=\"27\" ry=\"27\"/>\n",
       "</g>\n",
       "<!-- 140264130351648&#45;&gt;140264130835504 -->\n",
       "<g id=\"edge2\" class=\"edge\">\n",
       "<title>140264130351648&#45;&gt;140264130835504</title>\n",
       "<path fill=\"none\" stroke=\"#000000\" d=\"M82.1649,-120.0663C91.0649,-122.4615 100.4105,-124.9766 109.0956,-127.3139\"/>\n",
       "<polygon fill=\"#000000\" stroke=\"#000000\" points=\"108.3554,-130.7391 118.9214,-129.9581 110.1745,-123.9796 108.3554,-130.7391\"/>\n",
       "</g>\n",
       "<!-- 140264130836608 -->\n",
       "<g id=\"node2\" class=\"node\">\n",
       "<title>140264130836608</title>\n",
       "<polygon fill=\"#000000\" stroke=\"#000000\" points=\"262.0879,-146 208.0879,-146 208.0879,-110 262.0879,-110 262.0879,-146\"/>\n",
       "</g>\n",
       "<!-- 140264130834928 -->\n",
       "<g id=\"node15\" class=\"node\">\n",
       "<title>140264130834928</title>\n",
       "<ellipse fill=\"none\" stroke=\"#000000\" cx=\"325.0879\" cy=\"-82\" rx=\"27\" ry=\"27\"/>\n",
       "</g>\n",
       "<!-- 140264130836608&#45;&gt;140264130834928 -->\n",
       "<g id=\"edge15\" class=\"edge\">\n",
       "<title>140264130836608&#45;&gt;140264130834928</title>\n",
       "<path fill=\"none\" stroke=\"#000000\" d=\"M262.0909,-114.1985C271.4294,-109.4254 282.006,-104.0196 291.7896,-99.0191\"/>\n",
       "<polygon fill=\"#000000\" stroke=\"#000000\" points=\"293.549,-102.0506 300.8604,-94.3829 290.3631,-95.8176 293.549,-102.0506\"/>\n",
       "</g>\n",
       "<!-- 140264130838880 -->\n",
       "<g id=\"node3\" class=\"node\">\n",
       "<title>140264130838880</title>\n",
       "<polygon fill=\"#000000\" stroke=\"#000000\" points=\"442.0879,-225 388.0879,-225 388.0879,-189 442.0879,-189 442.0879,-225\"/>\n",
       "</g>\n",
       "<!-- 140264130838192 -->\n",
       "<g id=\"node17\" class=\"node\">\n",
       "<title>140264130838192</title>\n",
       "<ellipse fill=\"none\" stroke=\"#000000\" cx=\"505.0879\" cy=\"-212\" rx=\"27\" ry=\"27\"/>\n",
       "</g>\n",
       "<!-- 140264130838880&#45;&gt;140264130838192 -->\n",
       "<g id=\"edge3\" class=\"edge\">\n",
       "<title>140264130838880&#45;&gt;140264130838192</title>\n",
       "<path fill=\"none\" stroke=\"#000000\" d=\"M442.0909,-208.5002C450.1892,-208.9501 459.2185,-209.4517 467.8544,-209.9315\"/>\n",
       "<polygon fill=\"#000000\" stroke=\"#000000\" points=\"467.9252,-213.4407 478.104,-210.5009 468.3136,-206.4515 467.9252,-213.4407\"/>\n",
       "</g>\n",
       "<!-- 140264130839552 -->\n",
       "<g id=\"node4\" class=\"node\">\n",
       "<title>140264130839552</title>\n",
       "<polygon fill=\"#000000\" stroke=\"#000000\" points=\"830.1758,-274 776.1758,-274 776.1758,-238 830.1758,-238 830.1758,-274\"/>\n",
       "</g>\n",
       "<!-- 140264130839552&#45;&gt;140264130838192 -->\n",
       "<g id=\"edge13\" class=\"edge\">\n",
       "<title>140264130839552&#45;&gt;140264130838192</title>\n",
       "<path fill=\"none\" stroke=\"#000000\" d=\"M776.0305,-255.8602C731.8976,-255.1255 642.0742,-251.5112 568.0879,-235 558.6575,-232.8955 548.7211,-229.7385 539.5976,-226.4326\"/>\n",
       "<polygon fill=\"#000000\" stroke=\"#000000\" points=\"540.6706,-223.0965 530.0791,-222.8296 538.1924,-229.6432 540.6706,-223.0965\"/>\n",
       "</g>\n",
       "<!-- 140264130257968 -->\n",
       "<g id=\"node5\" class=\"node\">\n",
       "<title>140264130257968</title>\n",
       "<polygon fill=\"#000000\" stroke=\"#000000\" points=\"262.0879,-50 208.0879,-50 208.0879,-14 262.0879,-14 262.0879,-50\"/>\n",
       "</g>\n",
       "<!-- 140264130257968&#45;&gt;140264130834928 -->\n",
       "<g id=\"edge19\" class=\"edge\">\n",
       "<title>140264130257968&#45;&gt;140264130834928</title>\n",
       "<path fill=\"none\" stroke=\"#000000\" d=\"M262.0909,-47.0016C271.6843,-52.3313 282.5842,-58.3868 292.5887,-63.9449\"/>\n",
       "<polygon fill=\"#000000\" stroke=\"#000000\" points=\"291.0203,-67.0774 301.4617,-68.8743 294.4199,-60.9583 291.0203,-67.0774\"/>\n",
       "</g>\n",
       "<!-- 140264130835216 -->\n",
       "<g id=\"node6\" class=\"node\">\n",
       "<title>140264130835216</title>\n",
       "<polygon fill=\"#000000\" stroke=\"#000000\" points=\"1010.1758,-190 956.1758,-190 956.1758,-154 1010.1758,-154 1010.1758,-190\"/>\n",
       "</g>\n",
       "<!-- 140264130257440 -->\n",
       "<g id=\"node18\" class=\"node\">\n",
       "<title>140264130257440</title>\n",
       "<ellipse fill=\"none\" stroke=\"#000000\" cx=\"1077.1758\" cy=\"-172\" rx=\"27\" ry=\"27\"/>\n",
       "<ellipse fill=\"none\" stroke=\"#000000\" cx=\"1077.1758\" cy=\"-172\" rx=\"31\" ry=\"31\"/>\n",
       "<text text-anchor=\"start\" x=\"1068.5039\" y=\"-165.2438\" font-family=\"Times,serif\" font-size=\"32.00\" fill=\"#000000\">■</text>\n",
       "</g>\n",
       "<!-- 140264130835216&#45;&gt;140264130257440 -->\n",
       "<g id=\"edge20\" class=\"edge\">\n",
       "<title>140264130835216&#45;&gt;140264130257440</title>\n",
       "<path fill=\"none\" stroke=\"#000000\" d=\"M1010.3645,-172C1018.3928,-172 1027.365,-172 1036.0639,-172\"/>\n",
       "<polygon fill=\"#000000\" stroke=\"#000000\" points=\"1036.0771,-175.5001 1046.0771,-172 1036.077,-168.5001 1036.0771,-175.5001\"/>\n",
       "</g>\n",
       "<!-- 140264130836752 -->\n",
       "<g id=\"node7\" class=\"node\">\n",
       "<title>140264130836752</title>\n",
       "<polygon fill=\"#000000\" stroke=\"#000000\" points=\"262.0879,-200 208.0879,-200 208.0879,-164 262.0879,-164 262.0879,-200\"/>\n",
       "</g>\n",
       "<!-- 140264130835600 -->\n",
       "<g id=\"node14\" class=\"node\">\n",
       "<title>140264130835600</title>\n",
       "<ellipse fill=\"none\" stroke=\"#000000\" cx=\"325.0879\" cy=\"-182\" rx=\"27\" ry=\"27\"/>\n",
       "</g>\n",
       "<!-- 140264130836752&#45;&gt;140264130835600 -->\n",
       "<g id=\"edge16\" class=\"edge\">\n",
       "<title>140264130836752&#45;&gt;140264130835600</title>\n",
       "<path fill=\"none\" stroke=\"#000000\" d=\"M262.0909,-182C270.1156,-182 279.0544,-182 287.6187,-182\"/>\n",
       "<polygon fill=\"#000000\" stroke=\"#000000\" points=\"287.793,-185.5001 297.7929,-182 287.7929,-178.5001 287.793,-185.5001\"/>\n",
       "</g>\n",
       "<!-- 140264130836368 -->\n",
       "<g id=\"node8\" class=\"node\">\n",
       "<title>140264130836368</title>\n",
       "<polygon fill=\"#000000\" stroke=\"#000000\" points=\"532.0879,-167 478.0879,-167 478.0879,-131 532.0879,-131 532.0879,-167\"/>\n",
       "</g>\n",
       "<!-- 140264130355008 -->\n",
       "<g id=\"node13\" class=\"node\">\n",
       "<title>140264130355008</title>\n",
       "<ellipse fill=\"none\" stroke=\"#000000\" cx=\"893.1758\" cy=\"-172\" rx=\"27\" ry=\"27\"/>\n",
       "</g>\n",
       "<!-- 140264130836368&#45;&gt;140264130355008 -->\n",
       "<g id=\"edge17\" class=\"edge\">\n",
       "<title>140264130836368&#45;&gt;140264130355008</title>\n",
       "<path fill=\"none\" stroke=\"#000000\" d=\"M532.3775,-150.6173C600.5152,-154.6555 778.1997,-165.1859 855.8965,-169.7906\"/>\n",
       "<polygon fill=\"#000000\" stroke=\"#000000\" points=\"855.9849,-173.3019 866.1745,-170.3998 856.3991,-166.3142 855.9849,-173.3019\"/>\n",
       "</g>\n",
       "<!-- 140264130839408 -->\n",
       "<g id=\"node9\" class=\"node\">\n",
       "<title>140264130839408</title>\n",
       "<polygon fill=\"none\" stroke=\"#000000\" points=\"650.2198,-226 568.0439,-226 568.0439,-190 650.2198,-190 650.2198,-226\"/>\n",
       "<text text-anchor=\"middle\" x=\"609.1318\" y=\"-204.4\" font-family=\"Times,serif\" font-size=\"12.00\" fill=\"#000000\">gemm_2e+09</text>\n",
       "</g>\n",
       "<!-- 140264130839360 -->\n",
       "<g id=\"node12\" class=\"node\">\n",
       "<title>140264130839360</title>\n",
       "<ellipse fill=\"none\" stroke=\"#000000\" cx=\"713.1758\" cy=\"-204\" rx=\"27\" ry=\"27\"/>\n",
       "</g>\n",
       "<!-- 140264130839408&#45;&gt;140264130839360 -->\n",
       "<g id=\"edge1\" class=\"edge\">\n",
       "<title>140264130839408&#45;&gt;140264130839360</title>\n",
       "<path fill=\"none\" stroke=\"#000000\" d=\"M650.2528,-206.4191C658.7196,-206.0936 667.5899,-205.7526 675.911,-205.4327\"/>\n",
       "<polygon fill=\"#000000\" stroke=\"#000000\" points=\"676.2275,-208.9232 686.0856,-205.0415 675.9585,-201.9283 676.2275,-208.9232\"/>\n",
       "</g>\n",
       "<!-- 140264130839888 -->\n",
       "<g id=\"node10\" class=\"node\">\n",
       "<title>140264130839888</title>\n",
       "<polygon fill=\"#000000\" stroke=\"#000000\" points=\"830.1758,-217 776.1758,-217 776.1758,-181 830.1758,-181 830.1758,-217\"/>\n",
       "</g>\n",
       "<!-- 140264130839888&#45;&gt;140264130355008 -->\n",
       "<g id=\"edge14\" class=\"edge\">\n",
       "<title>140264130839888&#45;&gt;140264130355008</title>\n",
       "<path fill=\"none\" stroke=\"#000000\" d=\"M830.1787,-190.8991C838.7722,-188.3211 848.414,-185.4285 857.5215,-182.6963\"/>\n",
       "<polygon fill=\"#000000\" stroke=\"#000000\" points=\"858.547,-186.0428 867.1195,-179.8169 856.5355,-179.338 858.547,-186.0428\"/>\n",
       "</g>\n",
       "<!-- 140264130258736 -->\n",
       "<g id=\"node11\" class=\"node\">\n",
       "<title>140264130258736</title>\n",
       "<ellipse fill=\"none\" stroke=\"#000000\" cx=\"145.0879\" cy=\"-27\" rx=\"27\" ry=\"27\"/>\n",
       "<text text-anchor=\"start\" x=\"135.2598\" y=\"-19.8215\" font-family=\"Times,serif\" font-size=\"34.00\" fill=\"#000000\">●</text>\n",
       "</g>\n",
       "<!-- 140264130258736&#45;&gt;140264130257968 -->\n",
       "<g id=\"edge18\" class=\"edge\">\n",
       "<title>140264130258736&#45;&gt;140264130257968</title>\n",
       "<path fill=\"none\" stroke=\"#000000\" d=\"M172.0909,-28.5002C180.1156,-28.946 189.0544,-29.4426 197.6187,-29.9184\"/>\n",
       "<polygon fill=\"#000000\" stroke=\"#000000\" points=\"197.6141,-33.4234 207.7929,-30.4836 198.0025,-26.4342 197.6141,-33.4234\"/>\n",
       "</g>\n",
       "<!-- 140264130839360&#45;&gt;140264130839552 -->\n",
       "<g id=\"edge4\" class=\"edge\">\n",
       "<title>140264130839360&#45;&gt;140264130839552</title>\n",
       "<path fill=\"none\" stroke=\"#000000\" d=\"M736.8222,-217.6624C746.0869,-223.0153 756.9237,-229.2766 767.1217,-235.1688\"/>\n",
       "<polygon fill=\"#000000\" stroke=\"#000000\" points=\"765.454,-238.2473 775.8636,-240.2196 768.9559,-232.1863 765.454,-238.2473\"/>\n",
       "</g>\n",
       "<!-- 140264130839360&#45;&gt;140264130839888 -->\n",
       "<g id=\"edge5\" class=\"edge\">\n",
       "<title>140264130839360&#45;&gt;140264130839888</title>\n",
       "<path fill=\"none\" stroke=\"#000000\" d=\"M740.1787,-202.4998C748.2034,-202.054 757.1423,-201.5574 765.7066,-201.0816\"/>\n",
       "<polygon fill=\"#000000\" stroke=\"#000000\" points=\"766.0904,-204.5658 775.8808,-200.5164 765.702,-197.5766 766.0904,-204.5658\"/>\n",
       "</g>\n",
       "<!-- 140264130355008&#45;&gt;140264130835216 -->\n",
       "<g id=\"edge6\" class=\"edge\">\n",
       "<title>140264130355008&#45;&gt;140264130835216</title>\n",
       "<path fill=\"none\" stroke=\"#000000\" d=\"M920.1787,-172C928.2034,-172 937.1423,-172 945.7066,-172\"/>\n",
       "<polygon fill=\"#000000\" stroke=\"#000000\" points=\"945.8808,-175.5001 955.8808,-172 945.8808,-168.5001 945.8808,-175.5001\"/>\n",
       "</g>\n",
       "<!-- 140264130835600&#45;&gt;140264130838880 -->\n",
       "<g id=\"edge7\" class=\"edge\">\n",
       "<title>140264130835600&#45;&gt;140264130838880</title>\n",
       "<path fill=\"none\" stroke=\"#000000\" d=\"M351.1196,-189.231C359.4933,-191.5571 368.9396,-194.181 377.9517,-196.6844\"/>\n",
       "<polygon fill=\"#000000\" stroke=\"#000000\" points=\"377.2897,-200.133 387.8617,-199.4372 379.1633,-193.3883 377.2897,-200.133\"/>\n",
       "</g>\n",
       "<!-- 140264130835600&#45;&gt;140264130836368 -->\n",
       "<g id=\"edge8\" class=\"edge\">\n",
       "<title>140264130835600&#45;&gt;140264130836368</title>\n",
       "<path fill=\"none\" stroke=\"#000000\" d=\"M351.6475,-177.1307C382.3117,-171.509 432.9671,-162.2221 467.6263,-155.868\"/>\n",
       "<polygon fill=\"#000000\" stroke=\"#000000\" points=\"468.6243,-159.2434 477.8292,-153.9974 467.362,-152.3582 468.6243,-159.2434\"/>\n",
       "</g>\n",
       "<!-- 140264130834928&#45;&gt;140264130351648 -->\n",
       "<g id=\"edge9\" class=\"edge\">\n",
       "<title>140264130834928&#45;&gt;140264130351648</title>\n",
       "<path fill=\"none\" stroke=\"#000000\" d=\"M297.9527,-84.3867C258.3895,-87.8901 182.5592,-94.6941 118.0879,-101 109.7189,-101.8186 100.8416,-102.7145 92.2036,-103.6013\"/>\n",
       "<polygon fill=\"#000000\" stroke=\"#000000\" points=\"91.8055,-100.1237 82.2181,-104.6328 92.5249,-107.0867 91.8055,-100.1237\"/>\n",
       "</g>\n",
       "<!-- 140264130835504&#45;&gt;140264130836608 -->\n",
       "<g id=\"edge10\" class=\"edge\">\n",
       "<title>140264130835504&#45;&gt;140264130836608</title>\n",
       "<path fill=\"none\" stroke=\"#000000\" d=\"M172.0909,-134.2997C180.1156,-133.4972 189.0544,-132.6033 197.6187,-131.7469\"/>\n",
       "<polygon fill=\"#000000\" stroke=\"#000000\" points=\"198.1908,-135.2073 207.7929,-130.7295 197.4943,-128.242 198.1908,-135.2073\"/>\n",
       "</g>\n",
       "<!-- 140264130835504&#45;&gt;140264130836752 -->\n",
       "<g id=\"edge11\" class=\"edge\">\n",
       "<title>140264130835504&#45;&gt;140264130836752</title>\n",
       "<path fill=\"none\" stroke=\"#000000\" d=\"M169.6808,-149.2964C178.6733,-153.7927 189.0452,-158.9786 198.8414,-163.8767\"/>\n",
       "<polygon fill=\"#000000\" stroke=\"#000000\" points=\"197.4839,-167.1111 207.9934,-168.4528 200.6144,-160.8501 197.4839,-167.1111\"/>\n",
       "</g>\n",
       "<!-- 140264130838192&#45;&gt;140264130839408 -->\n",
       "<g id=\"edge12\" class=\"edge\">\n",
       "<title>140264130838192&#45;&gt;140264130839408</title>\n",
       "<path fill=\"none\" stroke=\"#000000\" d=\"M532.1526,-210.9595C540.1145,-210.6534 549.0985,-210.308 558.0457,-209.964\"/>\n",
       "<polygon fill=\"#000000\" stroke=\"#000000\" points=\"558.217,-213.4601 568.0751,-209.5784 557.948,-206.4653 558.217,-213.4601\"/>\n",
       "</g>\n",
       "</g>\n",
       "</svg>\n"
      ],
      "text/plain": [
       "<graphviz.graphs.Digraph at 0x7f91c9b1ea90>"
      ]
     },
     "execution_count": 27,
     "metadata": {},
     "output_type": "execute_result"
    }
   ],
   "source": [
    "pn_visualizer.apply(net,im,fm)"
   ]
  },
  {
   "cell_type": "code",
   "execution_count": 28,
   "id": "a44f6996",
   "metadata": {},
   "outputs": [],
   "source": [
    "tree = pm4py.discover_process_tree_inductive(xes_log)"
   ]
  },
  {
   "cell_type": "code",
   "execution_count": 29,
   "id": "5674ada0",
   "metadata": {},
   "outputs": [
    {
     "data": {
      "image/png": "[encoded data removed]",
      "text/plain": [
       "<IPython.core.display.Image object>"
      ]
     },
     "metadata": {},
     "output_type": "display_data"
    }
   ],
   "source": [
    "pm4py.view_process_tree(tree)"
   ]
  },
  {
   "cell_type": "code",
   "execution_count": 32,
   "id": "8453a1d2",
   "metadata": {},
   "outputs": [
    {
     "name": "stderr",
     "output_type": "stream",
     "text": [
      "/var/folders/sv/jmmtzklx49g03qzbkrpz_cdr0000gp/T/ipykernel_56497/2778094008.py:1: DeprecatedWarning: discover_dfg is deprecated as of 2.3.0 and will be removed in 2.4.0. this method will be replaced by the discover_dfg_typed function(). Please adapt your code to use pm4py.discover_dfg_typed()\n",
      "  dfg, st, en = pm4py.discover_dfg(xes_log)\n"
     ]
    }
   ],
   "source": [
    "dfg, st, en = pm4py.discover_dfg(xes_log)"
   ]
  },
  {
   "cell_type": "code",
   "execution_count": 33,
   "id": "7eafbf96",
   "metadata": {},
   "outputs": [
    {
     "data": {
      "image/png": "[encoded data removed]",
      "text/plain": [
       "<IPython.core.display.Image object>"
      ]
     },
     "metadata": {},
     "output_type": "display_data"
    }
   ],
   "source": [
    " pm4py.view_dfg(dfg, st, en)"
   ]
  },
  {
   "cell_type": "code",
   "execution_count": 39,
   "id": "45d3e1ac",
   "metadata": {},
   "outputs": [],
   "source": [
    "from pm4py.visualization.dfg import visualizer as dfg_visualizer\n",
    "gviz = dfg_visualizer.apply(dfg)"
   ]
  },
  {
   "cell_type": "code",
   "execution_count": 41,
   "id": "dbb2df8f",
   "metadata": {},
   "outputs": [
    {
     "name": "stdout",
     "output_type": "stream",
     "text": [
      "digraph {\n",
      "\tgraph [bgcolor=white]\n",
      "\tnode [shape=box]\n",
      "\t-6655237382206230595 [label=\"gemm_2e+07 (6)\" fillcolor=\"#FFFFFF\" fontsize=12 style=filled]\n",
      "\t-6626188385558876383 [label=\"gemm_2e+09 (6)\" fillcolor=\"#FFFFFF\" fontsize=12 style=filled]\n",
      "\t-6655237382206230595 -> -6655237382206230595 [label=6 fontsize=12 penwidth=2.59999600001]\n",
      "\t-6655237382206230595 -> -6626188385558876383 [label=4 fontsize=12 penwidth=1.799998000005]\n",
      "\t-6626188385558876383 -> -6626188385558876383 [label=2 fontsize=12 penwidth=1.0]\n",
      "\toverlap=false\n",
      "}\n",
      "\n"
     ]
    }
   ],
   "source": [
    "print(gviz)"
   ]
  },
  {
   "cell_type": "code",
   "execution_count": 43,
   "id": "a11938db",
   "metadata": {},
   "outputs": [],
   "source": [
    " fp = footprints_discovery.apply(xes_log, variant=footprints_discovery.Variants.ENTIRE_EVENT_LOG)"
   ]
  },
  {
   "cell_type": "code",
   "execution_count": 44,
   "id": "2fce093b",
   "metadata": {},
   "outputs": [
    {
     "data": {
      "text/plain": [
       "{'dfg': Counter({('gemm_2e+07', 'gemm_2e+07'): 6,\n",
       "          ('gemm_2e+07', 'gemm_2e+09'): 4,\n",
       "          ('gemm_2e+09', 'gemm_2e+09'): 2}),\n",
       " 'sequence': {('gemm_2e+07', 'gemm_2e+09')},\n",
       " 'parallel': {('gemm_2e+07', 'gemm_2e+07'), ('gemm_2e+09', 'gemm_2e+09')},\n",
       " 'start_activities': {'gemm_2e+07'},\n",
       " 'end_activities': {'gemm_2e+07', 'gemm_2e+09'},\n",
       " 'activities': {'gemm_2e+07', 'gemm_2e+09'},\n",
       " 'min_trace_length': 3}"
      ]
     },
     "execution_count": 44,
     "metadata": {},
     "output_type": "execute_result"
    }
   ],
   "source": [
    "fp"
   ]
  },
  {
   "cell_type": "code",
   "execution_count": 49,
   "id": "3aa09c86",
   "metadata": {},
   "outputs": [],
   "source": [
    "gviz = fp_visualizer.apply(fp)"
   ]
  },
  {
   "cell_type": "code",
   "execution_count": 51,
   "id": "293b1646",
   "metadata": {},
   "outputs": [
    {
     "data": {
      "image/svg+xml": [
       "<?xml version=\"1.0\" encoding=\"UTF-8\" standalone=\"no\"?>\n",
       "<!DOCTYPE svg PUBLIC \"-//W3C//DTD SVG 1.1//EN\"\n",
       " \"http://www.w3.org/Graphics/SVG/1.1/DTD/svg11.dtd\">\n",
       "<!-- Generated by graphviz version 2.40.1 (20161225.0304)\n",
       " -->\n",
       "<!-- Title: %3 Pages: 1 -->\n",
       "<svg width=\"273pt\" height=\"76pt\"\n",
       " viewBox=\"0.00 0.00 273.00 76.00\" xmlns=\"http://www.w3.org/2000/svg\" xmlns:xlink=\"http://www.w3.org/1999/xlink\">\n",
       "<g id=\"graph0\" class=\"graph\" transform=\"scale(1 1) rotate(0) translate(4 72)\">\n",
       "<title>%3</title>\n",
       "<polygon fill=\"#ffffff\" stroke=\"transparent\" points=\"-4,4 -4,-72 269,-72 269,4 -4,4\"/>\n",
       "<!-- tbl -->\n",
       "<g id=\"node1\" class=\"node\">\n",
       "<title>tbl</title>\n",
       "<polygon fill=\"none\" stroke=\"#0000ff\" points=\"8.5,-44 8.5,-64 91.5,-64 91.5,-44 8.5,-44\"/>\n",
       "<polygon fill=\"none\" stroke=\"#0000ff\" points=\"91.5,-44 91.5,-64 174.5,-64 174.5,-44 91.5,-44\"/>\n",
       "<text text-anchor=\"start\" x=\"94.4487\" y=\"-50.8\" font-family=\"Times,serif\" font-weight=\"bold\" font-size=\"14.00\" fill=\"#000000\">gemm_2e+07</text>\n",
       "<polygon fill=\"none\" stroke=\"#0000ff\" points=\"174.5,-44 174.5,-64 257.5,-64 257.5,-44 174.5,-44\"/>\n",
       "<text text-anchor=\"start\" x=\"177.4487\" y=\"-50.8\" font-family=\"Times,serif\" font-weight=\"bold\" font-size=\"14.00\" fill=\"#000000\">gemm_2e+09</text>\n",
       "<polygon fill=\"none\" stroke=\"#0000ff\" points=\"8.5,-24 8.5,-44 91.5,-44 91.5,-24 8.5,-24\"/>\n",
       "<text text-anchor=\"start\" x=\"11.4487\" y=\"-30.8\" font-family=\"Times,serif\" font-weight=\"bold\" font-size=\"14.00\" fill=\"#000000\">gemm_2e+07</text>\n",
       "<polygon fill=\"none\" stroke=\"#0000ff\" points=\"91.5,-24 91.5,-44 174.5,-44 174.5,-24 91.5,-24\"/>\n",
       "<text text-anchor=\"start\" x=\"130.1973\" y=\"-29.8\" font-family=\"Times,serif\" font-size=\"14.00\" fill=\"#000000\">||</text>\n",
       "<polygon fill=\"none\" stroke=\"#0000ff\" points=\"174.5,-24 174.5,-44 257.5,-44 257.5,-24 174.5,-24\"/>\n",
       "<text text-anchor=\"start\" x=\"212.0522\" y=\"-29.8\" font-family=\"Times,serif\" font-size=\"14.00\" fill=\"#000000\">&gt;</text>\n",
       "<polygon fill=\"none\" stroke=\"#0000ff\" points=\"8.5,-4 8.5,-24 91.5,-24 91.5,-4 8.5,-4\"/>\n",
       "<text text-anchor=\"start\" x=\"11.4487\" y=\"-10.8\" font-family=\"Times,serif\" font-weight=\"bold\" font-size=\"14.00\" fill=\"#000000\">gemm_2e+09</text>\n",
       "<polygon fill=\"none\" stroke=\"#0000ff\" points=\"91.5,-4 91.5,-24 174.5,-24 174.5,-4 91.5,-4\"/>\n",
       "<text text-anchor=\"start\" x=\"129.0522\" y=\"-9.8\" font-family=\"Times,serif\" font-size=\"14.00\" fill=\"#000000\">&lt;</text>\n",
       "<polygon fill=\"none\" stroke=\"#0000ff\" points=\"174.5,-4 174.5,-24 257.5,-24 257.5,-4 174.5,-4\"/>\n",
       "<text text-anchor=\"start\" x=\"213.1973\" y=\"-9.8\" font-family=\"Times,serif\" font-size=\"14.00\" fill=\"#000000\">||</text>\n",
       "</g>\n",
       "</g>\n",
       "</svg>\n"
      ],
      "text/plain": [
       "<graphviz.sources.Source at 0x7f91ca0204c0>"
      ]
     },
     "execution_count": 51,
     "metadata": {},
     "output_type": "execute_result"
    }
   ],
   "source": [
    "gviz"
   ]
  },
  {
   "cell_type": "code",
   "execution_count": 82,
   "id": "c9b99050",
   "metadata": {},
   "outputs": [
    {
     "name": "stdout",
     "output_type": "stream",
     "text": [
      "('gemm_2e+07', 'gemm_2e+07') 6\n",
      "('gemm_2e+07', 'gemm_2e+09') 4\n",
      "('gemm_2e+09', 'gemm_2e+09') 2\n"
     ]
    }
   ],
   "source": [
    "for k,v in fp['dfg'].items():\n",
    "    print(k,v)"
   ]
  },
  {
   "cell_type": "code",
   "execution_count": 83,
   "id": "2a634444",
   "metadata": {},
   "outputs": [
    {
     "data": {
      "text/plain": [
       "6"
      ]
     },
     "execution_count": 83,
     "metadata": {},
     "output_type": "execute_result"
    }
   ],
   "source": [
    "fp['dfg'][('gemm_2e+07', 'gemm_2e+07')]"
   ]
  },
  {
   "cell_type": "code",
   "execution_count": null,
   "id": "2579bca4",
   "metadata": {},
   "outputs": [],
   "source": []
  }
 ],
 "metadata": {
  "kernelspec": {
   "display_name": "Python 3 (ipykernel)",
   "language": "python",
   "name": "python3"
  },
  "language_info": {
   "codemirror_mode": {
    "name": "ipython",
    "version": 3
   },
   "file_extension": ".py",
   "mimetype": "text/x-python",
   "name": "python",
   "nbconvert_exporter": "python",
   "pygments_lexer": "ipython3",
   "version": "3.9.7"
  }
 },
 "nbformat": 4,
 "nbformat_minor": 5
}
